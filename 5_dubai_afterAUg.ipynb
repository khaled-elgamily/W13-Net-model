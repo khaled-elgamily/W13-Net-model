{
  "cells": [
    {
      "cell_type": "code",
      "execution_count": null,
      "metadata": {
        "colab": {
          "base_uri": "https://localhost:8080/"
        },
        "id": "ZEI-tikCJEQU",
        "outputId": "a00c29a5-4fd6-42ac-cde8-00f7c30d6fab"
      },
      "outputs": [
        {
          "name": "stdout",
          "output_type": "stream",
          "text": [
            "Mounted at /content/drive\n"
          ]
        }
      ],
      "source": [
        "from google.colab import drive\n",
        "drive.mount('/content/drive')"
      ]
    },
    {
      "cell_type": "markdown",
      "metadata": {
        "id": "8OTiOcUBwk_m"
      },
      "source": [
        "# Dubai Satellite Imagery Semantic Segmentation\n",
        "Humans in the Loop has published an open access dataset annotated for a joint project with the Mohammed Bin Rashid Space Center in Dubai, the UAE.\n",
        "\n",
        "The dataset consists of aerial imagery of Dubai obtained by MBRSC satellites and annotated with pixel-wise semantic segmentation in 6 classes. The images were segmented by the trainees of the Roia Foundation in Syria.\n",
        "\n",
        "Original Dataset Link: https://humansintheloop.org/resources/datasets/semantic-segmentation-dataset/"
      ]
    },
    {
      "cell_type": "markdown",
      "metadata": {
        "id": "5r63LYUjwk_p"
      },
      "source": [
        "# Installing & Importing Libraries"
      ]
    },
    {
      "cell_type": "code",
      "execution_count": null,
      "metadata": {
        "id": "dFUzZPxtwk_p"
      },
      "outputs": [],
      "source": [
        "import pickle\n",
        "import numpy as np\n",
        "import pandas as pd\n",
        "from PIL import Image\n",
        "import albumentations as A\n",
        "from IPython.display import SVG\n",
        "import matplotlib.pyplot as plt\n",
        "%matplotlib inline\n",
        "import os, re, sys, random, shutil, cv2\n",
        "\n",
        "import tensorflow as tf\n",
        "from tensorflow import keras\n",
        "from tensorflow.keras import backend as K\n",
        "from tensorflow.keras.models import Model\n",
        "from tensorflow.keras.models import Model\n",
        "from tensorflow.keras.optimizers import Adam, Nadam\n",
        "from tensorflow.keras import applications, optimizers\n",
        "from tensorflow.keras.applications import InceptionResNetV2\n",
        "from tensorflow.keras.applications.resnet50 import preprocess_input\n",
        "\n",
        "from tensorflow.keras.preprocessing.image import ImageDataGenerator, load_img, img_to_array\n",
        "from tensorflow.keras.utils import model_to_dot, plot_model\n",
        "from tensorflow.keras.callbacks import ModelCheckpoint, ReduceLROnPlateau, EarlyStopping, CSVLogger, LearningRateScheduler\n",
        "from tensorflow.keras.layers import Input, Conv2D, BatchNormalization, Activation, MaxPool2D, Conv2DTranspose, Concatenate, ZeroPadding2D, Dropout"
      ]
    },
    {
      "cell_type": "code",
      "execution_count": null,
      "metadata": {
        "id": "ewUxDfCYwk_q"
      },
      "outputs": [],
      "source": [
        "def visualize(image, mask, original_image=None, original_mask=None):\n",
        "    fontsize = 16\n",
        "\n",
        "    if original_image is None and original_mask is None:\n",
        "        f, ax = plt.subplots(2, 1, figsize=(10, 10), squeeze=True)\n",
        "        f.set_tight_layout(h_pad=5, w_pad=5)\n",
        "\n",
        "        ax[0].imshow(image)\n",
        "        ax[1].imshow(mask)\n",
        "    else:\n",
        "        f, ax = plt.subplots(2, 2, figsize=(16, 12), squeeze=True)\n",
        "        plt.tight_layout(pad=0.2, w_pad=1.0, h_pad=0.01)\n",
        "\n",
        "        ax[0, 0].imshow(original_image)\n",
        "        ax[0, 0].set_title('Original Image', fontsize=fontsize)\n",
        "\n",
        "        ax[1, 0].imshow(original_mask)\n",
        "        ax[1, 0].set_title('Original Mask', fontsize=fontsize)\n",
        "\n",
        "        ax[0, 1].imshow(image)\n",
        "        ax[0, 1].set_title('Transformed Image', fontsize=fontsize)\n",
        "\n",
        "        ax[1, 1].imshow(mask)\n",
        "        ax[1, 1].set_title('Transformed Mask', fontsize=fontsize)\n",
        "\n",
        "    plt.savefig('sample_augmented_image.png', facecolor= 'w', transparent= False, bbox_inches= 'tight', dpi= 100)"
      ]
    },
    {
      "cell_type": "markdown",
      "metadata": {
        "id": "u8KT4ESqwk_t"
      },
      "source": [
        "# Working with Augmented Dataset"
      ]
    },
    {
      "cell_type": "code",
      "execution_count": null,
      "metadata": {
        "id": "zRph_rE6wk_t"
      },
      "outputs": [],
      "source": [
        "train_images = \"/content/drive/MyDrive/Colab Notebooks/datasets/Aug/Images/Train/\"\n",
        "train_masks = \"/content/drive/MyDrive/Colab Notebooks/datasets/Aug/Masks/Train/\"\n",
        "val_images = \"/content/drive/MyDrive/Colab Notebooks/datasets/Aug/Images/Validation/\"\n",
        "val_masks = \"/content/drive/MyDrive/Colab Notebooks/datasets/Aug/Masks/Validation/\""
      ]
    },
    {
      "cell_type": "code",
      "execution_count": null,
      "metadata": {
        "id": "QXSOwNSOwk_t"
      },
      "outputs": [],
      "source": [
        "file_names = np.sort(os.listdir(train_images ))\n",
        "file_names = np.char.split(file_names, '.')\n",
        "filenames = np.array([])\n",
        "for i in range(len(file_names)):\n",
        "    filenames = np.append(filenames, file_names[i][0])"
      ]
    },
    {
      "cell_type": "code",
      "execution_count": null,
      "metadata": {
        "id": "OIY_N7DFwk_t"
      },
      "outputs": [],
      "source": [
        "def show_data(files, original_images_dir, label_images_dir):\n",
        "\n",
        "    for file in files:\n",
        "        fig, axs = plt.subplots(1, 2, figsize=(15, 6), constrained_layout=True)\n",
        "\n",
        "        axs[0].imshow(cv2.resize(cv2.imread(original_images_dir+str(file)+'.jpg'), (2000,1400)))\n",
        "        axs[0].set_title('Original Image', fontdict = {'fontsize':14, 'fontweight': 'medium'})\n",
        "        axs[0].set_xticks(np.arange(0, 2001, 200))\n",
        "        axs[0].set_yticks(np.arange(0, 1401, 200))\n",
        "        axs[0].grid(False)\n",
        "        axs[0].axis(True)\n",
        "\n",
        "        semantic_label_image = cv2.imread(label_images_dir+str(file)+'.png')\n",
        "       # semantic_label_image = cv2.cvtColor(semantic_label_image, cv2.COLOR_BGR2RGB)\n",
        "        semantic_label_image = cv2.resize(semantic_label_image, (2000,1400))\n",
        "        axs[1].imshow(semantic_label_image)\n",
        "        axs[1].set_title('Semantic Segmentation Mask', fontdict = {'fontsize':14, 'fontweight': 'medium'})\n",
        "        axs[1].set_xticks(np.arange(0, 2001, 200))\n",
        "        axs[1].set_yticks(np.arange(0, 1401, 200))\n",
        "        axs[1].grid(False)\n",
        "        axs[1].axis(True)\n",
        "\n",
        "        plt.savefig('./sample_'+file, facecolor= 'w', transparent= False, bbox_inches= 'tight', dpi= 100)\n",
        "        plt.show()\n",
        "\n",
        "\n",
        "\n",
        "#files = ['patch_5454', 'patch_5564', 'patch_5741', 'patch_5965', 'patch_6066', 'patch_6955', 'patch_7259',]\n",
        "#show_data(files, train_images, train_masks)"
      ]
    },
    {
      "cell_type": "code",
      "execution_count": null,
      "metadata": {
        "colab": {
          "base_uri": "https://localhost:8080/",
          "height": 237
        },
        "id": "7-ATOTmZNsPW",
        "outputId": "01f6a069-0166-4f06-80e3-fef32083fd63"
      },
      "outputs": [
        {
          "data": {
            "text/html": [
              "\n",
              "  <div id=\"df-809da1a0-594c-48ef-b0e2-4f3c864dcad8\" class=\"colab-df-container\">\n",
              "    <div>\n",
              "<style scoped>\n",
              "    .dataframe tbody tr th:only-of-type {\n",
              "        vertical-align: middle;\n",
              "    }\n",
              "\n",
              "    .dataframe tbody tr th {\n",
              "        vertical-align: top;\n",
              "    }\n",
              "\n",
              "    .dataframe thead th {\n",
              "        text-align: right;\n",
              "    }\n",
              "</style>\n",
              "<table border=\"1\" class=\"dataframe\">\n",
              "  <thead>\n",
              "    <tr style=\"text-align: right;\">\n",
              "      <th></th>\n",
              "      <th>name</th>\n",
              "      <th>r</th>\n",
              "      <th>g</th>\n",
              "      <th>b</th>\n",
              "    </tr>\n",
              "  </thead>\n",
              "  <tbody>\n",
              "    <tr>\n",
              "      <th>0</th>\n",
              "      <td>building</td>\n",
              "      <td>60</td>\n",
              "      <td>16</td>\n",
              "      <td>152</td>\n",
              "    </tr>\n",
              "    <tr>\n",
              "      <th>1</th>\n",
              "      <td>land</td>\n",
              "      <td>132</td>\n",
              "      <td>41</td>\n",
              "      <td>246</td>\n",
              "    </tr>\n",
              "    <tr>\n",
              "      <th>2</th>\n",
              "      <td>road</td>\n",
              "      <td>110</td>\n",
              "      <td>193</td>\n",
              "      <td>228</td>\n",
              "    </tr>\n",
              "    <tr>\n",
              "      <th>3</th>\n",
              "      <td>vegetation</td>\n",
              "      <td>254</td>\n",
              "      <td>221</td>\n",
              "      <td>58</td>\n",
              "    </tr>\n",
              "    <tr>\n",
              "      <th>4</th>\n",
              "      <td>water</td>\n",
              "      <td>226</td>\n",
              "      <td>169</td>\n",
              "      <td>41</td>\n",
              "    </tr>\n",
              "    <tr>\n",
              "      <th>5</th>\n",
              "      <td>unlabeled</td>\n",
              "      <td>155</td>\n",
              "      <td>155</td>\n",
              "      <td>155</td>\n",
              "    </tr>\n",
              "  </tbody>\n",
              "</table>\n",
              "</div>\n",
              "    <div class=\"colab-df-buttons\">\n",
              "\n",
              "  <div class=\"colab-df-container\">\n",
              "    <button class=\"colab-df-convert\" onclick=\"convertToInteractive('df-809da1a0-594c-48ef-b0e2-4f3c864dcad8')\"\n",
              "            title=\"Convert this dataframe to an interactive table.\"\n",
              "            style=\"display:none;\">\n",
              "\n",
              "  <svg xmlns=\"http://www.w3.org/2000/svg\" height=\"24px\" viewBox=\"0 -960 960 960\">\n",
              "    <path d=\"M120-120v-720h720v720H120Zm60-500h600v-160H180v160Zm220 220h160v-160H400v160Zm0 220h160v-160H400v160ZM180-400h160v-160H180v160Zm440 0h160v-160H620v160ZM180-180h160v-160H180v160Zm440 0h160v-160H620v160Z\"/>\n",
              "  </svg>\n",
              "    </button>\n",
              "\n",
              "  <style>\n",
              "    .colab-df-container {\n",
              "      display:flex;\n",
              "      gap: 12px;\n",
              "    }\n",
              "\n",
              "    .colab-df-convert {\n",
              "      background-color: #E8F0FE;\n",
              "      border: none;\n",
              "      border-radius: 50%;\n",
              "      cursor: pointer;\n",
              "      display: none;\n",
              "      fill: #1967D2;\n",
              "      height: 32px;\n",
              "      padding: 0 0 0 0;\n",
              "      width: 32px;\n",
              "    }\n",
              "\n",
              "    .colab-df-convert:hover {\n",
              "      background-color: #E2EBFA;\n",
              "      box-shadow: 0px 1px 2px rgba(60, 64, 67, 0.3), 0px 1px 3px 1px rgba(60, 64, 67, 0.15);\n",
              "      fill: #174EA6;\n",
              "    }\n",
              "\n",
              "    .colab-df-buttons div {\n",
              "      margin-bottom: 4px;\n",
              "    }\n",
              "\n",
              "    [theme=dark] .colab-df-convert {\n",
              "      background-color: #3B4455;\n",
              "      fill: #D2E3FC;\n",
              "    }\n",
              "\n",
              "    [theme=dark] .colab-df-convert:hover {\n",
              "      background-color: #434B5C;\n",
              "      box-shadow: 0px 1px 3px 1px rgba(0, 0, 0, 0.15);\n",
              "      filter: drop-shadow(0px 1px 2px rgba(0, 0, 0, 0.3));\n",
              "      fill: #FFFFFF;\n",
              "    }\n",
              "  </style>\n",
              "\n",
              "    <script>\n",
              "      const buttonEl =\n",
              "        document.querySelector('#df-809da1a0-594c-48ef-b0e2-4f3c864dcad8 button.colab-df-convert');\n",
              "      buttonEl.style.display =\n",
              "        google.colab.kernel.accessAllowed ? 'block' : 'none';\n",
              "\n",
              "      async function convertToInteractive(key) {\n",
              "        const element = document.querySelector('#df-809da1a0-594c-48ef-b0e2-4f3c864dcad8');\n",
              "        const dataTable =\n",
              "          await google.colab.kernel.invokeFunction('convertToInteractive',\n",
              "                                                    [key], {});\n",
              "        if (!dataTable) return;\n",
              "\n",
              "        const docLinkHtml = 'Like what you see? Visit the ' +\n",
              "          '<a target=\"_blank\" href=https://colab.research.google.com/notebooks/data_table.ipynb>data table notebook</a>'\n",
              "          + ' to learn more about interactive tables.';\n",
              "        element.innerHTML = '';\n",
              "        dataTable['output_type'] = 'display_data';\n",
              "        await google.colab.output.renderOutput(dataTable, element);\n",
              "        const docLink = document.createElement('div');\n",
              "        docLink.innerHTML = docLinkHtml;\n",
              "        element.appendChild(docLink);\n",
              "      }\n",
              "    </script>\n",
              "  </div>\n",
              "\n",
              "\n",
              "<div id=\"df-d8a68e80-65f4-4479-b684-6b5b8be4c743\">\n",
              "  <button class=\"colab-df-quickchart\" onclick=\"quickchart('df-d8a68e80-65f4-4479-b684-6b5b8be4c743')\"\n",
              "            title=\"Suggest charts.\"\n",
              "            style=\"display:none;\">\n",
              "\n",
              "<svg xmlns=\"http://www.w3.org/2000/svg\" height=\"24px\"viewBox=\"0 0 24 24\"\n",
              "     width=\"24px\">\n",
              "    <g>\n",
              "        <path d=\"M19 3H5c-1.1 0-2 .9-2 2v14c0 1.1.9 2 2 2h14c1.1 0 2-.9 2-2V5c0-1.1-.9-2-2-2zM9 17H7v-7h2v7zm4 0h-2V7h2v10zm4 0h-2v-4h2v4z\"/>\n",
              "    </g>\n",
              "</svg>\n",
              "  </button>\n",
              "\n",
              "<style>\n",
              "  .colab-df-quickchart {\n",
              "      --bg-color: #E8F0FE;\n",
              "      --fill-color: #1967D2;\n",
              "      --hover-bg-color: #E2EBFA;\n",
              "      --hover-fill-color: #174EA6;\n",
              "      --disabled-fill-color: #AAA;\n",
              "      --disabled-bg-color: #DDD;\n",
              "  }\n",
              "\n",
              "  [theme=dark] .colab-df-quickchart {\n",
              "      --bg-color: #3B4455;\n",
              "      --fill-color: #D2E3FC;\n",
              "      --hover-bg-color: #434B5C;\n",
              "      --hover-fill-color: #FFFFFF;\n",
              "      --disabled-bg-color: #3B4455;\n",
              "      --disabled-fill-color: #666;\n",
              "  }\n",
              "\n",
              "  .colab-df-quickchart {\n",
              "    background-color: var(--bg-color);\n",
              "    border: none;\n",
              "    border-radius: 50%;\n",
              "    cursor: pointer;\n",
              "    display: none;\n",
              "    fill: var(--fill-color);\n",
              "    height: 32px;\n",
              "    padding: 0;\n",
              "    width: 32px;\n",
              "  }\n",
              "\n",
              "  .colab-df-quickchart:hover {\n",
              "    background-color: var(--hover-bg-color);\n",
              "    box-shadow: 0 1px 2px rgba(60, 64, 67, 0.3), 0 1px 3px 1px rgba(60, 64, 67, 0.15);\n",
              "    fill: var(--button-hover-fill-color);\n",
              "  }\n",
              "\n",
              "  .colab-df-quickchart-complete:disabled,\n",
              "  .colab-df-quickchart-complete:disabled:hover {\n",
              "    background-color: var(--disabled-bg-color);\n",
              "    fill: var(--disabled-fill-color);\n",
              "    box-shadow: none;\n",
              "  }\n",
              "\n",
              "  .colab-df-spinner {\n",
              "    border: 2px solid var(--fill-color);\n",
              "    border-color: transparent;\n",
              "    border-bottom-color: var(--fill-color);\n",
              "    animation:\n",
              "      spin 1s steps(1) infinite;\n",
              "  }\n",
              "\n",
              "  @keyframes spin {\n",
              "    0% {\n",
              "      border-color: transparent;\n",
              "      border-bottom-color: var(--fill-color);\n",
              "      border-left-color: var(--fill-color);\n",
              "    }\n",
              "    20% {\n",
              "      border-color: transparent;\n",
              "      border-left-color: var(--fill-color);\n",
              "      border-top-color: var(--fill-color);\n",
              "    }\n",
              "    30% {\n",
              "      border-color: transparent;\n",
              "      border-left-color: var(--fill-color);\n",
              "      border-top-color: var(--fill-color);\n",
              "      border-right-color: var(--fill-color);\n",
              "    }\n",
              "    40% {\n",
              "      border-color: transparent;\n",
              "      border-right-color: var(--fill-color);\n",
              "      border-top-color: var(--fill-color);\n",
              "    }\n",
              "    60% {\n",
              "      border-color: transparent;\n",
              "      border-right-color: var(--fill-color);\n",
              "    }\n",
              "    80% {\n",
              "      border-color: transparent;\n",
              "      border-right-color: var(--fill-color);\n",
              "      border-bottom-color: var(--fill-color);\n",
              "    }\n",
              "    90% {\n",
              "      border-color: transparent;\n",
              "      border-bottom-color: var(--fill-color);\n",
              "    }\n",
              "  }\n",
              "</style>\n",
              "\n",
              "  <script>\n",
              "    async function quickchart(key) {\n",
              "      const quickchartButtonEl =\n",
              "        document.querySelector('#' + key + ' button');\n",
              "      quickchartButtonEl.disabled = true;  // To prevent multiple clicks.\n",
              "      quickchartButtonEl.classList.add('colab-df-spinner');\n",
              "      try {\n",
              "        const charts = await google.colab.kernel.invokeFunction(\n",
              "            'suggestCharts', [key], {});\n",
              "      } catch (error) {\n",
              "        console.error('Error during call to suggestCharts:', error);\n",
              "      }\n",
              "      quickchartButtonEl.classList.remove('colab-df-spinner');\n",
              "      quickchartButtonEl.classList.add('colab-df-quickchart-complete');\n",
              "    }\n",
              "    (() => {\n",
              "      let quickchartButtonEl =\n",
              "        document.querySelector('#df-d8a68e80-65f4-4479-b684-6b5b8be4c743 button');\n",
              "      quickchartButtonEl.style.display =\n",
              "        google.colab.kernel.accessAllowed ? 'block' : 'none';\n",
              "    })();\n",
              "  </script>\n",
              "</div>\n",
              "    </div>\n",
              "  </div>\n"
            ],
            "text/plain": [
              "         name    r    g    b\n",
              "0    building   60   16  152\n",
              "1        land  132   41  246\n",
              "2        road  110  193  228\n",
              "3  vegetation  254  221   58\n",
              "4       water  226  169   41\n",
              "5   unlabeled  155  155  155"
            ]
          },
          "execution_count": 7,
          "metadata": {},
          "output_type": "execute_result"
        }
      ],
      "source": [
        "import pandas as pd\n",
        "\n",
        "# Define the class_dict data as a list of dictionaries\n",
        "class_dict_data = [\n",
        "    {'name': 'building', 'r': 60, 'g': 16, 'b': 152},\n",
        "    {'name': 'land', 'r': 132, 'g': 41, 'b': 246},\n",
        "    {'name': 'road', 'r': 110, 'g': 193, 'b': 228},\n",
        "    {'name': 'vegetation', 'r': 254, 'g': 221, 'b': 58},\n",
        "    {'name': 'water', 'r': 226, 'g': 169, 'b': 41},\n",
        "    {'name': 'unlabeled', 'r': 155, 'g': 155, 'b': 155}\n",
        "]\n",
        "\n",
        "# Create the DataFrame\n",
        "class_dict_df = pd.DataFrame(class_dict_data)\n",
        "class_dict_df\n",
        "# Now, class_dict_df contains the desired DataFrame"
      ]
    },
    {
      "cell_type": "code",
      "execution_count": null,
      "metadata": {
        "colab": {
          "base_uri": "https://localhost:8080/"
        },
        "id": "Rj34BZOjwk_u",
        "outputId": "80c963f1-e616-4f88-81c1-04b332b6221b"
      },
      "outputs": [
        {
          "data": {
            "text/plain": [
              "([(60, 16, 152),\n",
              "  (132, 41, 246),\n",
              "  (110, 193, 228),\n",
              "  (254, 221, 58),\n",
              "  (226, 169, 41),\n",
              "  (155, 155, 155)],\n",
              " ['building', 'land', 'road', 'vegetation', 'water', 'unlabeled'])"
            ]
          },
          "execution_count": 8,
          "metadata": {},
          "output_type": "execute_result"
        }
      ],
      "source": [
        "label_names= list(class_dict_df.name)\n",
        "label_codes = []\n",
        "r= np.asarray(class_dict_df.r)\n",
        "g= np.asarray(class_dict_df.g)\n",
        "b= np.asarray(class_dict_df.b)\n",
        "\n",
        "for i in range(len(class_dict_df)):\n",
        "    label_codes.append(tuple([r[i], g[i], b[i]]))\n",
        "\n",
        "label_codes, label_names"
      ]
    },
    {
      "cell_type": "markdown",
      "metadata": {
        "id": "Lw9S0n25wk_u"
      },
      "source": [
        "# Create Useful Label & Code Conversion Dictionaries\n",
        "\n",
        "These will be used for:\n",
        "\n",
        "* One hot encoding the mask labels for model training\n",
        "* Decoding the predicted labels for interpretation and visualization"
      ]
    },
    {
      "cell_type": "code",
      "execution_count": null,
      "metadata": {
        "id": "qiqdiRVrwk_u"
      },
      "outputs": [],
      "source": [
        "code2id = {v:k for k,v in enumerate(label_codes)}\n",
        "id2code = {k:v for k,v in enumerate(label_codes)}\n",
        "\n",
        "name2id = {v:k for k,v in enumerate(label_names)}\n",
        "id2name = {k:v for k,v in enumerate(label_names)}"
      ]
    },
    {
      "cell_type": "code",
      "execution_count": null,
      "metadata": {
        "colab": {
          "base_uri": "https://localhost:8080/"
        },
        "id": "U6GMDDPCwk_u",
        "outputId": "6df098c8-31fc-4bef-d3de-20990964fa8c"
      },
      "outputs": [
        {
          "data": {
            "text/plain": [
              "{0: (60, 16, 152),\n",
              " 1: (132, 41, 246),\n",
              " 2: (110, 193, 228),\n",
              " 3: (254, 221, 58),\n",
              " 4: (226, 169, 41),\n",
              " 5: (155, 155, 155)}"
            ]
          },
          "execution_count": 10,
          "metadata": {},
          "output_type": "execute_result"
        }
      ],
      "source": [
        "id2code"
      ]
    },
    {
      "cell_type": "code",
      "execution_count": null,
      "metadata": {
        "colab": {
          "base_uri": "https://localhost:8080/"
        },
        "id": "ySfQOSWPwk_u",
        "outputId": "16aa6275-12cc-4a24-f761-954a6532b0f4"
      },
      "outputs": [
        {
          "data": {
            "text/plain": [
              "{0: 'building',\n",
              " 1: 'land',\n",
              " 2: 'road',\n",
              " 3: 'vegetation',\n",
              " 4: 'water',\n",
              " 5: 'unlabeled'}"
            ]
          },
          "execution_count": 11,
          "metadata": {},
          "output_type": "execute_result"
        }
      ],
      "source": [
        "id2name"
      ]
    },
    {
      "cell_type": "markdown",
      "metadata": {
        "id": "LDBH-h6Zwk_u"
      },
      "source": [
        "# Define Functions for One Hot Encoding RGB Labels & Decoding Encoded Predictions"
      ]
    },
    {
      "cell_type": "code",
      "execution_count": null,
      "metadata": {
        "id": "2XtZRuzlwk_v"
      },
      "outputs": [],
      "source": [
        "def rgb_to_onehot(rgb_image, colormap = id2code):\n",
        "    '''Function to one hot encode RGB mask labels\n",
        "        Inputs:\n",
        "            rgb_image - image matrix (eg. 256 x 256 x 3 dimension numpy ndarray)\n",
        "            colormap - dictionary of color to label id\n",
        "        Output: One hot encoded image of dimensions (height x width x num_classes) where num_classes = len(colormap)\n",
        "    '''\n",
        "    num_classes = len(colormap)\n",
        "    shape = rgb_image.shape[:2]+(num_classes,)\n",
        "    encoded_image = np.zeros( shape, dtype=np.int8 )\n",
        "    for i, cls in enumerate(colormap):\n",
        "        encoded_image[:,:,i] = np.all(rgb_image.reshape( (-1,3) ) == colormap[i], axis=1).reshape(shape[:2])\n",
        "    return encoded_image\n",
        "\n",
        "\n",
        "def onehot_to_rgb(onehot, colormap = id2code):\n",
        "    '''Function to decode encoded mask labels\n",
        "        Inputs:\n",
        "            onehot - one hot encoded image matrix (height x width x num_classes)\n",
        "            colormap - dictionary of color to label id\n",
        "        Output: Decoded RGB image (height x width x 3)\n",
        "    '''\n",
        "    single_layer = np.argmax(onehot, axis=-1)\n",
        "    output = np.zeros( onehot.shape[:2]+(3,) )\n",
        "    for k in colormap.keys():\n",
        "        output[single_layer==k] = colormap[k]\n",
        "    return np.uint8(output)"
      ]
    },
    {
      "cell_type": "markdown",
      "metadata": {
        "id": "LDnR6Eexwk_v"
      },
      "source": [
        "# Creating Custom Image Data Generators\n",
        "## Defining Data Generators"
      ]
    },
    {
      "cell_type": "markdown",
      "metadata": {
        "id": "7FluU0pywk_v"
      },
      "source": [
        "# Custom Image Data Generators for Creating Batches of Frames and Masks"
      ]
    },
    {
      "cell_type": "markdown",
      "metadata": {
        "id": "EG58EPDXwk_v"
      },
      "source": [
        "# Model"
      ]
    },
    {
      "cell_type": "code",
      "execution_count": null,
      "metadata": {
        "id": "eub2TlP_fDuC"
      },
      "outputs": [],
      "source": [
        "train_images = \"/content/drive/MyDrive/Colab Notebooks/datasets/Aug/Images/Train/\"\n",
        "train_masks = \"/content/drive/MyDrive/Colab Notebooks/datasets/Aug/Masks/Train/\"\n",
        "val_images = \"/content/drive/MyDrive/Colab Notebooks/datasets/Aug/Images/Validation/\"\n",
        "val_masks = \"/content/drive/MyDrive/Colab Notebooks/datasets/Aug/Masks/Validation/\"\n"
      ]
    },
    {
      "cell_type": "code",
      "execution_count": null,
      "metadata": {
        "id": "lfXnZElsggy7"
      },
      "outputs": [],
      "source": [
        "from keras.utils import to_categorical\n",
        "\n",
        "# List all image and mask files for training and validation\n",
        "train_image_files = os.listdir(train_images)\n",
        "train_mask_files = os.listdir(train_masks)\n",
        "val_image_files = os.listdir(val_images)\n",
        "val_mask_files = os.listdir(val_masks)\n",
        "\n",
        "# Define a generator to load data batch by batch\n",
        "def data_generator(image_files, mask_files, batch_size, num_classes, colormap):\n",
        "    num_samples = len(image_files)\n",
        "    while True:\n",
        "        batch_indices = np.random.choice(num_samples, batch_size, replace=False)\n",
        "        batch_images = []\n",
        "        batch_masks = []\n",
        "        for index in batch_indices:\n",
        "            image = cv2.imread(os.path.join(train_images, image_files[index]))\n",
        "            mask = cv2.imread(os.path.join(train_masks, mask_files[index]), cv2.IMREAD_COLOR)\n",
        "\n",
        "            # Preprocess and augment data as needed\n",
        "\n",
        "            # One-hot encode the mask using the provided functions\n",
        "            mask_onehot = rgb_to_onehot(mask, colormap)\n",
        "\n",
        "            # Add data to batch_images and batch_masks\n",
        "            batch_images.append(image)\n",
        "            batch_masks.append(mask_onehot)\n",
        "\n",
        "        yield np.array(batch_images), np.array(batch_masks)\n",
        "# Define a generator to load data batch by batch\n",
        "def data_generator2(image_files, mask_files, batch_size, num_classes, colormap):\n",
        "    num_samples = len(image_files)\n",
        "    while True:\n",
        "        batch_indices = np.random.choice(num_samples, batch_size, replace=False)\n",
        "        batch_images = []\n",
        "        batch_masks = []\n",
        "        for index in batch_indices:\n",
        "            image = cv2.imread(os.path.join(val_images, image_files[index]))\n",
        "            mask = cv2.imread(os.path.join(val_masks, mask_files[index]), cv2.IMREAD_COLOR)\n",
        "\n",
        "            # Preprocess and augment data as needed\n",
        "\n",
        "            # One-hot encode the mask using the provided functions\n",
        "            mask_onehot = rgb_to_onehot(mask, colormap)\n",
        "\n",
        "            # Add data to batch_images and batch_masks\n",
        "            batch_images.append(image)\n",
        "            batch_masks.append(mask_onehot)\n",
        "\n",
        "        yield np.array(batch_images), np.array(batch_masks)\n",
        "\n",
        "\n",
        "input_shape = (256, 256, 3)  # Adjust the input shape based on your images\n",
        "num_classes = len(id2code)  # Make sure to define your colormap\n",
        "\n",
        "\n"
      ]
    },
    {
      "cell_type": "code",
      "execution_count": null,
      "metadata": {
        "colab": {
          "base_uri": "https://localhost:8080/"
        },
        "id": "apO77g9lwk_v",
        "outputId": "d1832989-f0c3-492f-f9bb-6c0ce49a9e2e"
      },
      "outputs": [
        {
          "name": "stdout",
          "output_type": "stream",
          "text": [
            "steps_per_epoch:  160.0\n",
            "validation_steps:  35.0\n"
          ]
        }
      ],
      "source": [
        "batch_size = 16\n",
        "num_train_samples = len(np.sort(os.listdir(train_images)))\n",
        "num_val_samples = len(np.sort(os.listdir(val_images)))\n",
        "steps_per_epoch = np.ceil(float(num_train_samples) / float(2*batch_size))\n",
        "print('steps_per_epoch: ', steps_per_epoch)\n",
        "validation_steps = np.ceil(float(num_val_samples) / float(2*batch_size))\n",
        "print('validation_steps: ', validation_steps)"
      ]
    }
  ],
  "metadata": {
    "accelerator": "GPU",
    "colab": {
      "machine_shape": "hm",
      "provenance": []
    },
    "kernelspec": {
      "display_name": "Python 3",
      "name": "python3"
    },
    "language_info": {
      "codemirror_mode": {
        "name": "ipython",
        "version": 3
      },
      "file_extension": ".py",
      "mimetype": "text/x-python",
      "name": "python",
      "nbconvert_exporter": "python",
      "pygments_lexer": "ipython3",
      "version": "3.7.10"
    }
  },
  "nbformat": 4,
  "nbformat_minor": 0
}