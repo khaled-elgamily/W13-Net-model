{
  "nbformat": 4,
  "nbformat_minor": 0,
  "metadata": {
    "colab": {
      "provenance": []
    },
    "kernelspec": {
      "name": "python3",
      "display_name": "Python 3"
    },
    "language_info": {
      "name": "python"
    }
  },
  "cells": [
    {
      "cell_type": "code",
      "execution_count": null,
      "metadata": {
        "id": "Np0bpTdE3ayq"
      },
      "outputs": [],
      "source": [
        "class WeightedCombinationLayer(Layer):\n",
        "    def __init__(self, **kwargs):\n",
        "        super(WeightedCombinationLayer, self).__init__(**kwargs)\n",
        "        self.alpha = self.add_weight(name='alpha', initializer='uniform', trainable=True)\n",
        "\n",
        "    def call(self, inputs):\n",
        "        out_conv1, out_conv2 = inputs\n",
        "        return self.alpha * out_conv1 + (1 - self.alpha) * out_conv2"
      ]
    }
  ]
}